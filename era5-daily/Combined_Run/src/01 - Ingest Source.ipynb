{
 "cells": [
  {
   "cell_type": "code",
   "execution_count": 0,
   "metadata": {
    "application/vnd.databricks.v1+cell": {
     "cellMetadata": {
      "byteLimit": 2048000,
      "rowLimit": 10000
     },
     "inputWidgets": {},
     "nuid": "a39b7d65-67d5-439c-b933-0149bc5da1e8",
     "showTitle": false,
     "tableResultSettingsMap": {},
     "title": ""
    }
   },
   "outputs": [],
   "source": [
    "%pip install xarray netcdf4"
   ]
  },
  {
   "cell_type": "code",
   "execution_count": 0,
   "metadata": {
    "application/vnd.databricks.v1+cell": {
     "cellMetadata": {
      "byteLimit": 2048000,
      "rowLimit": 10000
     },
     "inputWidgets": {},
     "nuid": "3b0cea89-1b7a-4dca-b42e-50bf82bfddef",
     "showTitle": false,
     "tableResultSettingsMap": {},
     "title": ""
    }
   },
   "outputs": [],
   "source": [
    "%sh pip list"
   ]
  },
  {
   "cell_type": "code",
   "execution_count": 0,
   "metadata": {
    "application/vnd.databricks.v1+cell": {
     "cellMetadata": {
      "byteLimit": 2048000,
      "rowLimit": 10000
     },
     "inputWidgets": {},
     "nuid": "17ace1d8-2ece-4a45-806d-52aad63cb7ab",
     "showTitle": false,
     "tableResultSettingsMap": {},
     "title": ""
    }
   },
   "outputs": [],
   "source": [
    "%restart_python\n",
    "import time\n",
    "import glob\n",
    "import os\n",
    "start = time.time()\n",
    "era5_path_list = [\n",
    "    p for p in glob.glob('/Volumes/aer-processed/era5/daily_summary/*.nc')]\n",
    "print(f'took {time.time()-start:.2f}s to read {len(era5_path_list)} files')\n"
   ]
  },
  {
   "cell_type": "code",
   "execution_count": 0,
   "metadata": {
    "application/vnd.databricks.v1+cell": {
     "cellMetadata": {
      "byteLimit": 2048000,
      "rowLimit": 10000
     },
     "inputWidgets": {},
     "nuid": "3004f716-a073-4023-93fc-46596737a2ed",
     "showTitle": false,
     "tableResultSettingsMap": {},
     "title": ""
    }
   },
   "outputs": [],
   "source": [
    "import os\n",
    "import shutil\n",
    "import time\n",
    "import glob\n",
    "import concurrent.futures\n",
    "\n",
    "def copy_file(file_path):\n",
    "    start = time.time()\n",
    "    size = os.path.getsize(file_path)\n",
    "    shutil.copy(file_path, target_dir)\n",
    "    end = time.time()\n",
    "    return file_path, size, (end - start)\n",
    "\n",
    "max_workers = 40\n",
    "target_dir = '/tmp/era5'\n",
    "offset = 365\n",
    "index = 0\n",
    "os.makedirs(target_dir, exist_ok=True)\n",
    "\n",
    "start = time.time()\n",
    "era5_path_list = [\n",
    "    p for p in glob.glob('/Volumes/aer-processed/era5/daily_summary/*.nc')]\n",
    "print(f'took {time.time()-start:.2f}s to read {len(era5_path_list)} files')\n",
    "\n",
    "while index < len(era5_path_list):\n",
    "    batch_start = time.time()\n",
    "    total_bytes_copied = 0\n",
    "    files_to_copy = era5_path_list[index : index + offset]\n",
    "\n",
    "    print(f'max workers: {max_workers} -- ', end='')\n",
    "\n",
    "    with concurrent.futures.ThreadPoolExecutor(max_workers=max_workers) as executor:\n",
    "        futures = [executor.submit(copy_file, fp) for fp in files_to_copy]\n",
    "\n",
    "        for f in concurrent.futures.as_completed(futures):\n",
    "            file_path, file_size, _ = f.result()\n",
    "            total_bytes_copied += file_size\n",
    "            elapsed = time.time() - batch_start\n",
    "            if elapsed > 0:\n",
    "                bandwidth = (total_bytes_copied / (1024 * 1024)) / elapsed\n",
    "                gbps = (total_bytes_copied * 8 / (1024 * 1024 * 1024)) / elapsed\n",
    "            else:\n",
    "                bandwidth = 0\n",
    "                gpbs = 0\n",
    "            print(f'Running bandwidth: {bandwidth:.2f} MB/s ({gbps:.2f} Gbps)')\n",
    "\n",
    "    batch_elapsed = time.time() - batch_start\n",
    "    print(f'Copy complete, took {batch_elapsed:.2f}s')\n",
    "    index += offset"
   ]
  },
  {
   "cell_type": "code",
   "execution_count": 0,
   "metadata": {
    "application/vnd.databricks.v1+cell": {
     "cellMetadata": {
      "byteLimit": 2048000,
      "rowLimit": 10000
     },
     "inputWidgets": {},
     "nuid": "c558cd0a-fa7e-4531-a4ac-a18ad4fb7423",
     "showTitle": false,
     "tableResultSettingsMap": {},
     "title": ""
    }
   },
   "outputs": [],
   "source": [
    "dbutils.fs.ls('dbfs:/tmp/')"
   ]
  },
  {
   "cell_type": "code",
   "execution_count": 0,
   "metadata": {
    "application/vnd.databricks.v1+cell": {
     "cellMetadata": {},
     "inputWidgets": {},
     "nuid": "1a61bb94-1c4a-4011-9ad7-331c7c956cf3",
     "showTitle": false,
     "tableResultSettingsMap": {},
     "title": ""
    }
   },
   "outputs": [],
   "source": []
  }
 ],
 "metadata": {
  "application/vnd.databricks.v1+notebook": {
   "computePreferences": null,
   "dashboards": [],
   "environmentMetadata": {
    "base_environment": "",
    "environment_version": "2"
   },
   "language": "python",
   "notebookMetadata": {
    "mostRecentlyExecutedCommandWithImplicitDF": {
     "commandId": 3538531902074840,
     "dataframes": [
      "_sqldf"
     ]
    },
    "pythonIndentUnit": 4
   },
   "notebookName": "01 - Ingest Source",
   "widgets": {}
  },
  "language_info": {
   "name": "python"
  }
 },
 "nbformat": 4,
 "nbformat_minor": 0
}
