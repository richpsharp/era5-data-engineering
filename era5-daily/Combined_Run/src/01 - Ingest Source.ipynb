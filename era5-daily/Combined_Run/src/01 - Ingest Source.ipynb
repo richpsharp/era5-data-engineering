{
 "cells": [
  {
   "cell_type": "code",
   "execution_count": 0,
   "metadata": {
    "application/vnd.databricks.v1+cell": {
     "cellMetadata": {
      "byteLimit": 2048000,
      "rowLimit": 10000
     },
     "inputWidgets": {},
     "nuid": "a39b7d65-67d5-439c-b933-0149bc5da1e8",
     "showTitle": false,
     "tableResultSettingsMap": {},
     "title": ""
    }
   },
   "outputs": [],
   "source": [
    "%pip install xarray netcdf4 boto3 botocore\n",
    "%restart_python"
   ]
  },
  {
   "cell_type": "code",
   "execution_count": 0,
   "metadata": {
    "application/vnd.databricks.v1+cell": {
     "cellMetadata": {
      "byteLimit": 2048000,
      "rowLimit": 10000
     },
     "inputWidgets": {},
     "nuid": "17ace1d8-2ece-4a45-806d-52aad63cb7ab",
     "showTitle": false,
     "tableResultSettingsMap": {},
     "title": ""
    }
   },
   "outputs": [],
   "source": [
    "import time\n",
    "import glob\n",
    "import os\n",
    "start = time.time()\n",
    "era5_path_list = [\n",
    "    p for p in glob.glob('/Volumes/aer-processed/era5/daily_summary/*.nc')]\n",
    "print(f'took {time.time()-start:.2f}s to read {len(era5_path_list)} files')\n"
   ]
  },
  {
   "cell_type": "code",
   "execution_count": 0,
   "metadata": {
    "application/vnd.databricks.v1+cell": {
     "cellMetadata": {
      "byteLimit": 2048000,
      "rowLimit": 10000
     },
     "inputWidgets": {},
     "nuid": "3004f716-a073-4023-93fc-46596737a2ed",
     "showTitle": false,
     "tableResultSettingsMap": {},
     "title": ""
    }
   },
   "outputs": [],
   "source": [
    "import os\n",
    "import glob\n",
    "import shutil\n",
    "import time\n",
    "import concurrent.futures\n",
    "\n",
    "def copy_file(file_path):\n",
    "    shutil.copy(file_path, target_dir)\n",
    "\n",
    "max_workers = 20\n",
    "\n",
    "target_dir = '/tmp/era5'\n",
    "offset = 365\n",
    "index = 0\n",
    "os.makedirs(target_dir, exist_ok=True)\n",
    "while index < len(era5_path_list):\n",
    "    start = time.time()\n",
    "    print(f'max workers: {max_workers} -- ', end='')\n",
    "    with concurrent.futures.ThreadPoolExecutor(max_workers=max_workers) as executor:\n",
    "        executor.map(copy_file, era5_path_list[index:index+offset])\n",
    "    print(f'Copy complete, took {time.time()-start:.2f}s')\n",
    "    index += offset\n",
    "\n"
   ]
  },
  {
   "cell_type": "code",
   "execution_count": 0,
   "metadata": {
    "application/vnd.databricks.v1+cell": {
     "cellMetadata": {
      "byteLimit": 2048000,
      "rowLimit": 10000
     },
     "inputWidgets": {},
     "nuid": "c558cd0a-fa7e-4531-a4ac-a18ad4fb7423",
     "showTitle": false,
     "tableResultSettingsMap": {},
     "title": ""
    }
   },
   "outputs": [],
   "source": [
    "dbutils.fs.ls('dbfs:/tmp/')"
   ]
  },
  {
   "cell_type": "code",
   "execution_count": 0,
   "metadata": {
    "application/vnd.databricks.v1+cell": {
     "cellMetadata": {},
     "inputWidgets": {},
     "nuid": "1a61bb94-1c4a-4011-9ad7-331c7c956cf3",
     "showTitle": false,
     "tableResultSettingsMap": {},
     "title": ""
    }
   },
   "outputs": [],
   "source": []
  }
 ],
 "metadata": {
  "application/vnd.databricks.v1+notebook": {
   "computePreferences": null,
   "dashboards": [],
   "environmentMetadata": {
    "base_environment": "",
    "environment_version": "2"
   },
   "language": "python",
   "notebookMetadata": {
    "pythonIndentUnit": 4
   },
   "notebookName": "01 - Ingest Source",
   "widgets": {}
  },
  "language_info": {
   "name": "python"
  }
 },
 "nbformat": 4,
 "nbformat_minor": 0
}
