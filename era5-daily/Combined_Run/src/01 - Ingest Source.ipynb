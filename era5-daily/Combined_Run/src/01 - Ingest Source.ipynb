{
 "cells": [
  {
   "cell_type": "code",
   "execution_count": 0,
   "metadata": {
    "application/vnd.databricks.v1+cell": {
     "cellMetadata": {
      "byteLimit": 2048000,
      "rowLimit": 10000
     },
     "inputWidgets": {},
     "nuid": "17ace1d8-2ece-4a45-806d-52aad63cb7ab",
     "showTitle": false,
     "tableResultSettingsMap": {},
     "title": ""
    }
   },
   "outputs": [],
   "source": [
    "df = (spark.readStream\n",
    "           .format(\"cloudFiles\")\n",
    "           .option(\"cloudFiles.format\", \"csv\")\n",
    "           .option(\"cloudFiles.inferColumnTypes\", \"true\")\n",
    "           .load(\"s3://it-gwsc-dvp-prd-s3/prod/trends_era5/daily_summary/\"))\n",
    "\n",
    "df.writeStream.format(\"delta\").option(\"checkpointLocation\", \"dbfs:/checkpoints/mytable\").start(\"dbfs:/output/mytable\")\n",
    "\n",
    "\n",
    "import boto3\n",
    "import subprocess\n",
    "import os\n",
    "d\n",
    "bucket_name = 'it-gwsc-dvp-prd-s3'\n",
    "prefix = 'prod/trends_era5/daily_summary/'\n",
    "\n",
    "s3 = boto3.client(\"s3\")\n",
    "paginator = s3.get_paginator(\"list_objects_v2\")\n",
    "pages = paginator.paginate(Bucket=bucket_name, Prefix=prefix)\n",
    "\n",
    "for page in pages:\n",
    "    for obj in page.get(\"Contents\", []):\n",
    "        print(obj[\"Key\"])\n",
    "        break\n",
    "    break\n",
    "\n",
    "\n",
    "source_folder = '/Volumes/aer-processed/era5/daily_summary'\n",
    "first_file = next(iter(os.scandir(source_folder)))\n",
    "print(first_file)\n",
    "\n",
    "#spark.sql(\"\"\"\n",
    "#    OPTIMIZE `era5-daily-data`.bronze_dev.era5_inventory_table\n",
    "#    ZORDER BY (date_modified_in_s3);\n",
    "#\"\"\")\n",
    "\n",
    "latest_date_df = spark.sql(\"\"\"\n",
    "    SELECT MAX(date_modified_in_s3) AS max_date\n",
    "    FROM `era5-daily-data`.bronze_dev.era5_inventory_table\n",
    "\"\"\")\n",
    "display(latest_date_df)\n",
    "\n",
    "s3 = boto3.client('s3')\n",
    "paginator = s3.get_paginator()"
   ]
  }
 ],
 "metadata": {
  "application/vnd.databricks.v1+notebook": {
   "computePreferences": null,
   "dashboards": [],
   "environmentMetadata": {
    "base_environment": "",
    "environment_version": "2"
   },
   "language": "python",
   "notebookMetadata": {
    "pythonIndentUnit": 4
   },
   "notebookName": "01 - Ingest Source",
   "widgets": {}
  },
  "language_info": {
   "name": "python"
  }
 },
 "nbformat": 4,
 "nbformat_minor": 0
}
